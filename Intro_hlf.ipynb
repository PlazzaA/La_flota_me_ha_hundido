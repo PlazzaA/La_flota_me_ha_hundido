{
 "cells": [
  {
   "cell_type": "markdown",
   "metadata": {},
   "source": [
    "![imagen](./img/hundir-la-flota-juego-de-mesa.jpg)"
   ]
  },
  {
   "cell_type": "markdown",
   "metadata": {},
   "source": [
    "En esta entrega vas a crear tu propio juego de **Hundir la flota** en Python. \n",
    "[Aquí](http://es.battleship-game.org/) podrás probarlo online."
   ]
  },
  {
   "attachments": {},
   "cell_type": "markdown",
   "metadata": {},
   "source": [
    "### En clase\n",
    "1. Crea la función `crear_tablero(tamaño)`, un tablero por defecto de 10x10 relleno del carácter \"_\" con numpy.\n",
    "2. Crea la función `colocar_barco(barco, tablero)`, que recibirá la lista de casillas de un barco y el tablero donde colocarlo. Prueba primero a posicionar un par de barcos por ejemplo en [(0,1), (1,1)] y [(1,3), (1,4), (1,5), (1,6)]. Los barcos serán Os mayúsculas. Como ves, un barco de dos posiciones de eslora y otro de cuatro.\n",
    "3. Crea la función `disparar(casilla, tablero)`, si el disparo acierta en un barco sustituye la O por una X (tocado), si es agua, sustituye la _ por una A (Agua). Prueba primero a disparar el barco de 2 casillas.\n",
    "4. Crea la función `crear_barco(eslora)`, que deberá crear una lista de casillas de un barco en función a la eslora, de forma aleatoria.\n",
    "\n",
    "### Proyecto individual\n",
    "1. Crea la función `colocar_barcos(tablero)`, que deberá de colocar la lista de barcos generados de forma aleatoria (6 barcos en total (3 barcos de eslora 2, 2 de eslora 3 y 1 eslora 4)) ¡Mucho ojo con barcos que estén superpuestos (no pueden ocupar dos barcos la misma casilla) o barcos que se salgan del tablero!\n",
    "2. Escribe el flujo completo del programa, con la dinámica de turnos y funcionalidades necesarios para jugar contra la máquina (dispara a tu tablero de forma aleatoria). Crea todas las funciones que necesites y aplica todo lo aprendido que te sea útil.\n",
    "3. Encapsula todo en un `main.py` y un `utils.py` para ejecutarlo desde terminal.\n",
    "4. Sube tu proyecto a un repositorio de github y prepara una demo (solo se podrá enseñar desde terminal) para la presentación de tu proyecto."
   ]
  },
  {
   "cell_type": "markdown",
   "metadata": {},
   "source": [
    "## Presentación\n",
    "Cada uno realizará una presentación el **lunes 17 de marzo**, donde se contarán con **10 minutos máximo**, importante ceñirse al tiempo. Se tendrá que enseñar:\n",
    "1. El git clone del repositorio de github a tu ordenador y explicar las partes más relevantes del código.\n",
    "2. Una demo donde se muestre el correcto funcionamiento del código para jugar, ejecutándose desde terminal.\n",
    "3. Explicación de la lógica de las partes más relevantes del código desarrollado."
   ]
  },
  {
   "cell_type": "code",
   "execution_count": 5,
   "metadata": {},
   "outputs": [
    {
     "name": "stdout",
     "output_type": "stream",
     "text": [
      "Requirement already satisfied: numpy in c:\\users\\plaza\\appdata\\local\\programs\\python\\python313\\lib\\site-packages (2.2.3)\n"
     ]
    },
    {
     "name": "stderr",
     "output_type": "stream",
     "text": [
      "\n",
      "[notice] A new release of pip is available: 24.3.1 -> 25.0.1\n",
      "[notice] To update, run: python.exe -m pip install --upgrade pip\n"
     ]
    }
   ],
   "source": [
    "!pip install numpy"
   ]
  },
  {
   "cell_type": "code",
   "execution_count": 6,
   "metadata": {},
   "outputs": [],
   "source": [
    "import numpy as np"
   ]
  },
  {
   "cell_type": "code",
   "execution_count": 7,
   "metadata": {},
   "outputs": [
    {
     "data": {
      "text/plain": [
       "array([['_', '_', '_', '_', '_', '_', '_', '_', '_', '_'],\n",
       "       ['_', '_', '_', '_', '_', '_', '_', '_', '_', '_'],\n",
       "       ['_', '_', '_', '_', '_', '_', '_', '_', '_', '_'],\n",
       "       ['_', '_', '_', '_', '_', '_', '_', '_', '_', '_'],\n",
       "       ['_', '_', '_', '_', '_', '_', '_', '_', '_', '_'],\n",
       "       ['_', '_', '_', '_', '_', '_', '_', '_', '_', '_'],\n",
       "       ['_', '_', '_', '_', '_', '_', '_', '_', '_', '_'],\n",
       "       ['_', '_', '_', '_', '_', '_', '_', '_', '_', '_'],\n",
       "       ['_', '_', '_', '_', '_', '_', '_', '_', '_', '_'],\n",
       "       ['_', '_', '_', '_', '_', '_', '_', '_', '_', '_']], dtype='<U1')"
      ]
     },
     "execution_count": 7,
     "metadata": {},
     "output_type": "execute_result"
    }
   ],
   "source": [
    "np.full((10,10), '_')"
   ]
  },
  {
   "cell_type": "code",
   "execution_count": 87,
   "metadata": {},
   "outputs": [],
   "source": [
    "def crear_tablero(tamaño=(10,10)):\n",
    "    return np.full(tamaño, '_')"
   ]
  },
  {
   "cell_type": "code",
   "execution_count": null,
   "metadata": {},
   "outputs": [
    {
     "name": "stdout",
     "output_type": "stream",
     "text": [
      "[['_' '_' '_' '_' '_' '_' '_' '_' '_' '_']\n",
      " ['_' '_' '_' '_' '_' '_' '_' '_' '_' '_']\n",
      " ['_' '_' '_' '_' '_' '_' '_' '_' '_' '_']\n",
      " ['_' '_' '_' '_' '_' '_' '_' '_' '_' '_']\n",
      " ['_' '_' '_' '_' '_' '_' '_' '_' '_' '_']\n",
      " ['_' '_' '_' '_' '_' '_' '_' '_' '_' '_']\n",
      " ['_' '_' '_' '_' '_' '_' '_' '_' '_' '_']\n",
      " ['_' '_' '_' '_' '_' '_' '_' '_' '_' '_']\n",
      " ['_' '_' '_' '_' '_' '_' '_' '_' '_' '_']\n",
      " ['_' '_' '_' '_' '_' '_' '_' '_' '_' '_']]\n",
      "\n",
      "[['_' '_' '_' '_' '_' '_' '_' '_' '_' '_']\n",
      " ['_' '_' '_' '_' '_' '_' '_' '_' '_' '_']\n",
      " ['_' '_' '_' '_' '_' '_' '_' '_' '_' '_']\n",
      " ['_' '_' '_' '_' '_' '_' '_' '_' '_' '_']\n",
      " ['_' '_' '_' '_' '_' '_' '_' '_' '_' '_']\n",
      " ['_' '_' '_' '_' '_' '_' '_' '_' '_' '_']\n",
      " ['_' '_' '_' '_' '_' '_' '_' '_' '_' '_']\n",
      " ['_' '_' '_' '_' '_' '_' '_' '_' '_' '_']\n",
      " ['_' '_' '_' '_' '_' '_' '_' '_' '_' '_']\n",
      " ['_' '_' '_' '_' '_' '_' '_' '_' '_' '_']]\n"
     ]
    }
   ],
   "source": [
    "tablero = crear_tablero()\n",
    "tablero_1 = crear_tablero()\n",
    "print(tablero, end = \"\\n\\n\")\n",
    "print(tablero_1)"
   ]
  },
  {
   "cell_type": "code",
   "execution_count": 10,
   "metadata": {},
   "outputs": [
    {
     "name": "stdout",
     "output_type": "stream",
     "text": [
      "[['B' '_' '_' '_' '_' '_' '_' '_' '_' '_']\n",
      " ['B' '_' '_' '_' '_' '_' '_' '_' '_' '_']\n",
      " ['B' '_' '_' '_' '_' '_' '_' '_' '_' '_']\n",
      " ['_' '_' '_' '_' '_' '_' '_' '_' '_' '_']\n",
      " ['_' '_' '_' '_' '_' '_' '_' '_' '_' '_']\n",
      " ['_' '_' '_' '_' '_' '_' '_' '_' '_' '_']\n",
      " ['_' '_' '_' '_' '_' '_' '_' '_' '_' '_']\n",
      " ['_' '_' '_' '_' '_' '_' '_' '_' '_' '_']\n",
      " ['_' '_' '_' '_' '_' '_' '_' '_' '_' '_']\n",
      " ['_' '_' '_' '_' '_' '_' '_' '_' '_' '_']]\n"
     ]
    }
   ],
   "source": [
    "tablero[0][0] = \"B\"\n",
    "tablero[1,0] = \"B\"\n",
    "tablero[(2,0)] = \"B\"\n",
    "print(tablero)"
   ]
  },
  {
   "cell_type": "code",
   "execution_count": 11,
   "metadata": {},
   "outputs": [
    {
     "name": "stdout",
     "output_type": "stream",
     "text": [
      "[['_' 'O' '_' '_' '_' '_' '_' '_' '_' '_']\n",
      " ['_' 'O' '_' 'O' 'O' 'O' 'O' '_' '_' '_']\n",
      " ['_' '_' '_' '_' '_' '_' '_' '_' '_' '_']\n",
      " ['_' '_' '_' '_' '_' '_' '_' '_' '_' '_']\n",
      " ['_' '_' '_' '_' '_' '_' '_' '_' '_' '_']\n",
      " ['_' '_' '_' '_' '_' '_' '_' '_' '_' '_']\n",
      " ['_' '_' '_' '_' '_' '_' '_' '_' '_' '_']\n",
      " ['_' '_' '_' '_' '_' '_' '_' '_' '_' '_']\n",
      " ['_' '_' '_' '_' '_' '_' '_' '_' '_' '_']\n",
      " ['_' '_' '_' '_' '_' '_' '_' '_' '_' '_']]\n"
     ]
    }
   ],
   "source": [
    "tablero = crear_tablero()\n",
    "barco_1 = [(0,1), (1,1)]\n",
    "\n",
    "for casilla in barco_1:\n",
    "    tablero[casilla] = \"O\"\n",
    "\n",
    "barco_2 = [(1,3), (1,4), (1,5), (1,6)]\n",
    "for casilla in barco_2:\n",
    "    tablero[casilla] = \"O\"\n",
    "\n",
    "print(tablero)"
   ]
  },
  {
   "cell_type": "code",
   "execution_count": 12,
   "metadata": {},
   "outputs": [],
   "source": [
    "def colocar_barco(barco, tablero):\n",
    "    for casilla in barco:\n",
    "        tablero[casilla] = \"O\"\n",
    "    return tablero"
   ]
  },
  {
   "cell_type": "code",
   "execution_count": 13,
   "metadata": {},
   "outputs": [
    {
     "name": "stdout",
     "output_type": "stream",
     "text": [
      "[['_' 'O' '_' '_' '_' '_' '_' '_' '_' '_']\n",
      " ['_' 'O' '_' 'O' 'O' 'O' 'O' '_' '_' '_']\n",
      " ['_' '_' '_' '_' '_' '_' '_' '_' '_' '_']\n",
      " ['_' '_' '_' '_' '_' '_' '_' '_' '_' '_']\n",
      " ['_' '_' '_' '_' '_' '_' '_' '_' '_' '_']\n",
      " ['_' '_' '_' '_' '_' '_' '_' '_' '_' '_']\n",
      " ['_' '_' '_' '_' '_' '_' '_' '_' '_' '_']\n",
      " ['_' '_' '_' '_' '_' '_' '_' '_' '_' '_']\n",
      " ['_' '_' '_' '_' '_' '_' '_' '_' '_' '_']\n",
      " ['_' '_' '_' '_' '_' '_' '_' '_' '_' '_']]\n"
     ]
    }
   ],
   "source": [
    "tablero = crear_tablero()\n",
    "\n",
    "barco_1 = [(0,1), (1,1)]\n",
    "barco_2 = [(1,3), (1,4), (1,5), (1,6)]\n",
    "\n",
    "tablero = colocar_barco(barco_1, tablero)\n",
    "tablero = colocar_barco(barco_2, tablero)\n",
    "\n",
    "print(tablero)"
   ]
  },
  {
   "cell_type": "code",
   "execution_count": 14,
   "metadata": {},
   "outputs": [
    {
     "name": "stdout",
     "output_type": "stream",
     "text": [
      "Fallaste\n",
      "[['_' 'O' '_' '_' '_' '_' '_' '_' '_' '_']\n",
      " ['_' 'O' '_' 'O' 'O' 'O' 'O' '_' '_' '_']\n",
      " ['_' 'A' '_' '_' '_' '_' '_' '_' '_' '_']\n",
      " ['_' '_' '_' '_' '_' '_' '_' '_' '_' '_']\n",
      " ['_' '_' '_' '_' '_' '_' '_' '_' '_' '_']\n",
      " ['_' '_' '_' '_' '_' '_' '_' '_' '_' '_']\n",
      " ['_' '_' '_' '_' '_' '_' '_' '_' '_' '_']\n",
      " ['_' '_' '_' '_' '_' '_' '_' '_' '_' '_']\n",
      " ['_' '_' '_' '_' '_' '_' '_' '_' '_' '_']\n",
      " ['_' '_' '_' '_' '_' '_' '_' '_' '_' '_']]\n"
     ]
    }
   ],
   "source": [
    "if tablero[(2,1)] == \"O\":\n",
    "    print(\"Acertaste\")\n",
    "    tablero[(2,1)] = \"X\"\n",
    "else:\n",
    "    print(\"Fallaste\")\n",
    "    tablero[(2,1)]  = \"A\"\n",
    "print(tablero)"
   ]
  },
  {
   "cell_type": "code",
   "execution_count": 98,
   "metadata": {},
   "outputs": [],
   "source": [
    "def disparar(casilla, tablero):\n",
    "    if tablero[casilla] == \"O\":\n",
    "        print(\"Acertaste\")\n",
    "        tablero[casilla] = \"X\"\n",
    "    else:\n",
    "        print(\"Fallaste\")\n",
    "        tablero[casilla]  = \"A\"\n",
    "    return tablero"
   ]
  },
  {
   "cell_type": "code",
   "execution_count": 121,
   "metadata": {},
   "outputs": [],
   "source": [
    "def disparar(tablero, tablero_2):\n",
    "    coord_x = int(input(\"Dónde quieres disparar. (Coordenada x, valores del 0 al 9)\"))\n",
    "    coord_y = int(input(\"Dónde quieres disparar. (Coordenada y, valores del 0 al 9)\"))\n",
    "    if 0 > coord_x > 9 or 0 > coord_y > 9:\n",
    "        print(\"Has introducido valores coordenadas para este tablero\")\n",
    "        return disparar()\n",
    "    if tablero[coord_y][coord_x] == \"O\":\n",
    "        print(\"Acertaste\")\n",
    "        tablero[coord_y][coord_x] = \"X\"\n",
    "        tablero_2[coord_y][coord_x] = \"X\"\n",
    "    elif tablero[coord_y][coord_x] == \"_\":\n",
    "        print(\"Fallaste\")\n",
    "        tablero[coord_y][coord_x]  = \"A\"\n",
    "        tablero_2[coord_y][coord_x]  = \"A\"\n",
    "    elif tablero[coord_y][coord_x] == \"X\":\n",
    "        print(\"Ahí ya has disparado\")\n",
    "        return disparar()\n",
    "    elif tablero[coord_y][coord_x] == \"A\":\n",
    "        print(\"Ahí ya has disparado\")\n",
    "        return disparar()\n",
    "    return tablero, tablero_2"
   ]
  },
  {
   "cell_type": "code",
   "execution_count": 105,
   "metadata": {},
   "outputs": [
    {
     "name": "stdout",
     "output_type": "stream",
     "text": [
      "Fallaste\n",
      "[['_' 'O' '_' '_' '_' '_' '_' '_' '_' '_']\n",
      " ['A' 'O' '_' 'O' 'O' 'O' 'O' '_' '_' '_']\n",
      " ['_' '_' '_' '_' '_' '_' '_' '_' '_' '_']\n",
      " ['_' '_' '_' '_' '_' '_' '_' '_' '_' '_']\n",
      " ['_' '_' '_' '_' '_' '_' '_' '_' '_' '_']\n",
      " ['_' '_' '_' '_' '_' '_' '_' '_' '_' '_']\n",
      " ['_' '_' '_' '_' '_' '_' '_' '_' '_' '_']\n",
      " ['_' '_' '_' '_' '_' '_' '_' '_' '_' '_']\n",
      " ['_' '_' '_' '_' '_' '_' '_' '_' '_' '_']\n",
      " ['_' '_' '_' '_' '_' '_' '_' '_' '_' '_']]\n"
     ]
    }
   ],
   "source": [
    "tablero = crear_tablero()\n",
    "\n",
    "barco_1 = [(0,1), (1,1)]\n",
    "barco_2 = [(1,3), (1,4), (1,5), (1,6)]\n",
    "\n",
    "tablero = colocar_barco(barco_1, tablero)\n",
    "tablero = colocar_barco(barco_2, tablero)\n",
    "\n",
    "\n",
    "tablero = disparar(tablero)\n",
    "\n",
    "print(tablero)"
   ]
  },
  {
   "cell_type": "code",
   "execution_count": 17,
   "metadata": {},
   "outputs": [
    {
     "name": "stdout",
     "output_type": "stream",
     "text": [
      "[(8, 7), (9, 7)]\n"
     ]
    }
   ],
   "source": [
    "import random\n",
    "fila = random.randint(0,9)\n",
    "columna = random.randint(0,9)\n",
    "orientacion = random.choice([\"Horizontal\", \"Vertical\"])\n",
    "barco_aleatorio = [(fila, columna)]\n",
    "\n",
    "if orientacion == \"Horizontal\":\n",
    "    barco_aleatorio.append((fila, columna + 1))\n",
    "else:\n",
    "    barco_aleatorio.append((fila + 1, columna))\n",
    "\n",
    "print(barco_aleatorio)"
   ]
  },
  {
   "cell_type": "code",
   "execution_count": 18,
   "metadata": {},
   "outputs": [],
   "source": [
    "def crear_barco_aleatorio(eslora):\n",
    "    barco_aleatorio = []\n",
    "\n",
    "    orientacion =  random.choice([\"Horizontal\", \"Vertical\"])\n",
    "\n",
    "\n",
    "    if orientacion == \"Horizontal\":\n",
    "        fila = random.randint(0, 10 - eslora)\n",
    "        columna = random.randint(0,9)\n",
    "        for i in range(eslora):\n",
    "            if tablero[fila + i][columna] == \"O\" or tablero[fila + i][columna] == \"X\":\n",
    "                return crear_barco_aleatorio(eslora)\n",
    "        for h in range(eslora):\n",
    "            if tablero[fila + h - 1][columna] == \"_\":\n",
    "                barco_aleatorio.append((fila + h, columna))\n",
    "\n",
    "    if orientacion == \"Vertical\":\n",
    "        columna = random.randint(0, 10 - eslora)\n",
    "        fila = random.randint(0,9)\n",
    "        for j in range(eslora):\n",
    "            if tablero[fila][columna + j - 1] == \"O\" or tablero[fila][columna + j] == \"X\":\n",
    "                return crear_barco_aleatorio(eslora)\n",
    "        for g in range(eslora):\n",
    "            if tablero[fila][columna + g - 1] == \"_\":\n",
    "                barco_aleatorio.append((fila, columna + g))\n",
    "\n",
    "    return barco_aleatorio\n"
   ]
  },
  {
   "cell_type": "code",
   "execution_count": 19,
   "metadata": {},
   "outputs": [
    {
     "name": "stdout",
     "output_type": "stream",
     "text": [
      "['_' 'O' '_' 'O' 'X' 'O' 'O' '_' '_' '_']\n"
     ]
    }
   ],
   "source": [
    "print(tablero[1])"
   ]
  },
  {
   "cell_type": "code",
   "execution_count": null,
   "metadata": {},
   "outputs": [
    {
     "name": "stdout",
     "output_type": "stream",
     "text": [
      "[['_' 'O' '_' '_' '_' '_' '_' '_' '_' '_']\n",
      " ['_' 'O' '_' 'O' 'O' 'O' 'O' 'O' '_' '_']\n",
      " ['_' '_' '_' '_' '_' '_' '_' 'O' '_' '_']\n",
      " ['_' '_' '_' '_' '_' '_' '_' '_' '_' '_']\n",
      " ['_' '_' '_' '_' '_' '_' 'O' 'O' '_' '_']\n",
      " ['_' '_' '_' '_' '_' '_' 'O' 'O' '_' '_']\n",
      " ['_' '_' '_' '_' '_' '_' 'O' 'O' '_' '_']\n",
      " ['_' '_' '_' '_' '_' '_' 'O' '_' '_' '_']\n",
      " ['_' '_' '_' '_' '_' '_' 'O' '_' '_' '_']\n",
      " ['_' '_' '_' '_' '_' '_' '_' '_' '_' '_']]\n",
      "\n",
      "range(1, 10) [['_' '_' '_' '_' '_' '_' '_' '_' '_' '_']\n",
      " ['_' '_' '_' '_' '_' '_' '_' '_' '_' '_']\n",
      " ['_' '_' '_' '_' '_' '_' '_' '_' '_' '_']\n",
      " ['_' '_' '_' '_' '_' '_' '_' '_' '_' '_']\n",
      " ['_' '_' '_' '_' '_' '_' '_' '_' '_' '_']\n",
      " ['_' '_' '_' '_' '_' '_' '_' '_' '_' '_']\n",
      " ['_' '_' '_' '_' '_' '_' '_' '_' '_' '_']\n",
      " ['_' '_' '_' '_' '_' '_' '_' '_' '_' '_']\n",
      " ['_' '_' '_' '_' '_' '_' '_' '_' '_' '_']\n",
      " ['_' '_' '_' '_' '_' '_' '_' '_' '_' '_']]\n"
     ]
    }
   ],
   "source": [
    "tablero = crear_tablero()\n",
    "tablero_1 = crear_tablero()\n",
    "\n",
    "barco_1 = [(0,1), (1,1)]\n",
    "barco_2 = [(1,3), (1,4), (1,5), (1,6)]\n",
    "\n",
    "tablero = colocar_barco(barco_1, tablero)\n",
    "tablero = colocar_barco(barco_2, tablero)\n",
    "\n",
    "barco_3 = crear_barco_aleatorio(5)\n",
    "barco_4 = crear_barco_aleatorio(3)\n",
    "barco_5 = crear_barco_aleatorio(2)\n",
    "\n",
    "tablero = colocar_barco(barco_3, tablero)\n",
    "tablero = colocar_barco(barco_4, tablero)\n",
    "tablero = colocar_barco(barco_5, tablero)\n",
    "\n",
    "\n",
    "print(tablero, end = \"\\n\\n\")\n",
    "print(tablero_1)"
   ]
  },
  {
   "cell_type": "code",
   "execution_count": 21,
   "metadata": {},
   "outputs": [],
   "source": [
    "def colocar_barcos_aleatorio(tablero):\n",
    "    for i in range(3):\n",
    "        for casilla in crear_barco_aleatorio(2):\n",
    "            tablero[casilla] = \"O\"\n",
    "    for j in range(2):\n",
    "        for casilla in crear_barco_aleatorio(3):\n",
    "            tablero[casilla] = \"O\"\n",
    "    for casilla in crear_barco_aleatorio(4):\n",
    "        tablero[casilla] = \"O\"\n",
    "    return tablero"
   ]
  },
  {
   "cell_type": "code",
   "execution_count": 125,
   "metadata": {},
   "outputs": [
    {
     "name": "stdout",
     "output_type": "stream",
     "text": [
      "[['_' '_' '_' '_' '_' '_' '_' '_' 'O' '_']\n",
      " ['_' '_' '_' '_' '_' '_' '_' '_' 'O' '_']\n",
      " ['_' '_' '_' '_' '_' '_' '_' '_' '_' '_']\n",
      " ['_' '_' '_' 'O' 'O' '_' '_' '_' '_' '_']\n",
      " ['_' '_' '_' '_' '_' 'O' 'O' 'O' '_' '_']\n",
      " ['_' '_' 'O' '_' '_' '_' '_' 'O' 'O' '_']\n",
      " ['_' '_' 'O' '_' '_' '_' '_' '_' '_' '_']\n",
      " ['_' '_' 'O' '_' '_' '_' '_' '_' '_' '_']\n",
      " ['_' '_' 'O' '_' '_' '_' '_' '_' '_' '_']\n",
      " ['_' '_' 'O' 'O' 'O' '_' '_' '_' '_' '_']]\n",
      "\n",
      "[['_' '_' '_' '_' '_' '_' '_' '_' 'O' '_']\n",
      " ['_' '_' '_' '_' '_' '_' '_' '_' 'O' '_']\n",
      " ['_' '_' '_' '_' '_' '_' '_' '_' '_' '_']\n",
      " ['_' '_' '_' 'O' 'O' '_' '_' '_' '_' '_']\n",
      " ['_' '_' '_' '_' '_' 'O' 'O' 'O' '_' '_']\n",
      " ['_' '_' 'O' '_' '_' '_' '_' 'O' 'O' '_']\n",
      " ['_' '_' 'O' '_' '_' '_' '_' '_' '_' '_']\n",
      " ['_' '_' 'O' '_' '_' '_' '_' '_' '_' '_']\n",
      " ['_' '_' 'O' '_' '_' '_' '_' '_' '_' '_']\n",
      " ['_' '_' 'O' 'O' 'O' '_' '_' '_' '_' '_']]\n"
     ]
    }
   ],
   "source": [
    "tablero = crear_tablero()\n",
    "\n",
    "colocar_barcos_aleatorio(tablero)\n",
    "\n",
    "print(tablero, end = \"\\n\\n\")\n",
    "print(tablero)\n"
   ]
  },
  {
   "cell_type": "code",
   "execution_count": 74,
   "metadata": {},
   "outputs": [],
   "source": [
    "def tu_barco(eslor = 1):\n",
    "    tus_barcos = []\n",
    "\n",
    "    coord_x = \"\"\n",
    "    coord_y = \"\"\n",
    "    posicion = \"\"\n",
    "\n",
    "    coord_x = int(input(\"Introduzca la coordenada x (del 0 al 9) donde quiere que empiece su barco\"))\n",
    "    coord_y = int(input(\"Introduzca la coordenada y (del 0 al 9) donde quiere que empiece su barco\"))\n",
    "    posicion = input(\"¿Hacia dónde quiere que mire el barco? (Arriba, Abajo, Derecha o Izquierda)\")\n",
    "\n",
    "    if 0 > coord_x > 10 or 0 > coord_y > 10:\n",
    "        print(\"Tus coordenadas están fuera de rango, ingreselas de nuevo\")\n",
    "        return tu_barco(eslor)\n",
    "     \n",
    "    if posicion == \"Arriba\" or posicion == \"Abajo\" or posicion == \"Derecha\" or posicion == \"Izquierda\":\n",
    "        if posicion == \"Arriba\":\n",
    "            if (coord_y - eslor) < 0:\n",
    "                print(\"Tu barco se va a salir del tablero, ajustalo\")\n",
    "                return tu_barco(eslor)\n",
    "            for i in range(eslor):\n",
    "                if tablero_1[coord_y - i][coord_x] != \"_\":\n",
    "                    print(\"Tu barco no puede ir en esa posición, revisa si las coordenadas deseadas están libres y si el barco cabe enn el tablero\")\n",
    "                    return tu_barco(eslor)\n",
    "                else:\n",
    "                    tus_barcos.append((coord_y - i, coord_x))\n",
    "        elif posicion == \"Abajo\":\n",
    "            if (coord_y + eslor) < 0:\n",
    "                print(\"Tu barco se va a salir del tablero, ajustalo\")\n",
    "                return tu_barco(eslor)\n",
    "            for i in range(eslor):\n",
    "                if tablero_1[coord_y + i][coord_x] != \"_\":\n",
    "                    print(\"Tu barco no puede ir en esa posición, revisa si las coordenadas deseadas están libres y si el barco cabe enn el tablero\")\n",
    "                    return tu_barco(eslor)\n",
    "                else:\n",
    "                    tus_barcos.append((coord_y + i, coord_x))\n",
    "        elif posicion == \"Izquierda\":\n",
    "            if (coord_x - eslor) < 0:\n",
    "                print(\"Tu barco se va a salir del tablero, ajustalo\")\n",
    "                return tu_barco(eslor)\n",
    "            for i in range(eslor):\n",
    "                if tablero_1[coord_y][coord_x - i] != \"_\":\n",
    "                    print(\"Tu barco no puede ir en esa posición, revisa si las coordenadas deseadas están libres y si el barco cabe enn el tablero\")\n",
    "                    return tu_barco(eslor)\n",
    "                else:\n",
    "                    tus_barcos.append((coord_y, coord_x - i))\n",
    "        elif posicion == \"Derecha\":\n",
    "            if (coord_x + eslor) > 9:\n",
    "                print(\"Tu barco se va a salir del tablero, ajustalo\")\n",
    "                return tu_barco(eslor)\n",
    "            for i in range(eslor):\n",
    "                if tablero_1[coord_y][coord_x + i] != \"_\":\n",
    "                    print(\"Tu barco no puede ir en esa posición, revisa si las coordenadas deseadas están libres y si el barco cabe enn el tablero\")\n",
    "                    return tu_barco(eslor)\n",
    "                else:\n",
    "                    tus_barcos.append((coord_y, coord_x + i))\n",
    "    else:\n",
    "        print(\"Por favor indica una buena posicion\")\n",
    "        return tu_barco(eslor)\n",
    "\n",
    "    return tus_barcos"
   ]
  },
  {
   "cell_type": "code",
   "execution_count": 79,
   "metadata": {},
   "outputs": [
    {
     "name": "stdout",
     "output_type": "stream",
     "text": [
      "Coloca tu barco de eslora 2\n",
      "[['_' '_' '_' '_' '_' '_' '_' '_' '_' '_']\n",
      " ['_' '_' '_' '_' '_' '_' '_' '_' '_' '_']\n",
      " ['_' '_' '_' '_' '_' '_' '_' '_' '_' '_']\n",
      " ['_' '_' '_' '_' '_' '_' '_' '_' '_' '_']\n",
      " ['_' '_' '_' '_' '_' '_' '_' '_' '_' '_']\n",
      " ['_' '_' '_' '_' '_' '_' '_' '_' '_' '_']\n",
      " ['_' '_' '_' '_' '_' '_' '_' '_' '_' '_']\n",
      " ['_' '_' '_' '_' '_' '_' '_' '_' '_' '_']\n",
      " ['_' '_' '_' '_' '_' '_' '_' '_' '_' '_']\n",
      " ['_' '_' '_' '_' '_' '_' 'O' 'O' '_' '_']]\n",
      "Coloca otro barco de eslora 2\n",
      "Aqui está el tablero actualizado\n",
      "[['_' '_' '_' '_' '_' '_' '_' '_' '_' '_']\n",
      " ['_' '_' '_' '_' '_' '_' '_' '_' '_' '_']\n",
      " ['_' '_' '_' '_' '_' '_' '_' '_' '_' '_']\n",
      " ['_' '_' '_' '_' '_' '_' '_' '_' '_' '_']\n",
      " ['_' '_' '_' '_' '_' '_' '_' '_' '_' '_']\n",
      " ['_' '_' '_' '_' '_' '_' '_' '_' '_' '_']\n",
      " ['_' '_' '_' '_' '_' '_' '_' '_' '_' '_']\n",
      " ['_' '_' '_' '_' '_' '_' '_' '_' '_' '_']\n",
      " ['_' '_' '_' '_' '_' '_' '_' '_' '_' '_']\n",
      " ['_' '_' '_' '_' '_' '_' 'O' 'O' 'O' 'O']]\n"
     ]
    }
   ],
   "source": [
    "tablero_1 = crear_tablero()\n",
    "print(\"Coloca tu barco de eslora 2\")\n",
    "barco_1 = tu_barco(2)\n",
    "tablero_1 = colocar_barco(barco_1, tablero_1)\n",
    "print(tablero_1)\n",
    "print(\"Coloca otro barco de eslora 2\")\n",
    "barco_2 = tu_barco(2)\n",
    "tablero_1 = colocar_barco(barco_2, tablero_1)\n",
    "print(\"Aqui está el tablero actualizado\")\n",
    "print(tablero_1)"
   ]
  },
  {
   "cell_type": "code",
   "execution_count": 128,
   "metadata": {},
   "outputs": [],
   "source": [
    "import time"
   ]
  },
  {
   "cell_type": "code",
   "execution_count": 144,
   "metadata": {},
   "outputs": [
    {
     "name": "stdout",
     "output_type": "stream",
     "text": [
      "Coloca tu barco de eslora 2\n",
      "Coloca tu barco de eslora 2\n",
      "Coloca tu barco de eslora 2\n",
      "Coloca tu barco de eslora 3\n",
      "Coloca tu barco de eslora 3\n",
      "Coloca tu barco de eslora 4\n",
      "[['A' 'O' 'O' 'O' '_' '_' '_' '_' '_' '_']\n",
      " ['O' '_' '_' '_' '_' 'O' 'O' 'O' '_' 'O']\n",
      " ['O' '_' '_' '_' 'O' 'O' 'O' '_' '_' 'O']\n",
      " ['O' 'O' 'O' '_' 'O' '_' 'O' '_' '_' '_']\n",
      " ['O' '_' '_' '_' 'O' '_' 'O' '_' '_' '_']\n",
      " ['_' '_' '_' '_' 'O' 'O' 'O' 'O' '_' '_']\n",
      " ['_' 'O' 'O' '_' '_' '_' 'O' 'O' '_' '_']\n",
      " ['O' 'O' 'O' '_' 'O' '_' '_' 'O' '_' '_']\n",
      " ['O' 'O' 'O' '_' 'O' '_' 'O' 'O' 'O' 'O']\n",
      " ['_' 'O' '_' '_' '_' '_' 'O' 'O' '_' '_']]\n",
      "Aúnn hay barcos, dispara!\n"
     ]
    },
    {
     "ename": "ValueError",
     "evalue": "invalid literal for int() with base 10: ''",
     "output_type": "error",
     "traceback": [
      "\u001b[31m---------------------------------------------------------------------------\u001b[39m",
      "\u001b[31mValueError\u001b[39m                                Traceback (most recent call last)",
      "\u001b[36mCell\u001b[39m\u001b[36m \u001b[39m\u001b[32mIn[144]\u001b[39m\u001b[32m, line 38\u001b[39m\n\u001b[32m     36\u001b[39m time.sleep(\u001b[32m1\u001b[39m)\n\u001b[32m     37\u001b[39m \u001b[38;5;28mprint\u001b[39m(\u001b[33m\"\u001b[39m\u001b[33mAúnn hay barcos, dispara!\u001b[39m\u001b[33m\"\u001b[39m)\n\u001b[32m---> \u001b[39m\u001b[32m38\u001b[39m \u001b[43mdisparar\u001b[49m\u001b[43m(\u001b[49m\u001b[43mtablero\u001b[49m\u001b[43m,\u001b[49m\u001b[43m \u001b[49m\u001b[43mtablero_2\u001b[49m\u001b[43m)\u001b[49m\n\u001b[32m     39\u001b[39m time.sleep(\u001b[32m1\u001b[39m)\n\u001b[32m     40\u001b[39m \u001b[38;5;28mprint\u001b[39m(\u001b[33m\"\u001b[39m\u001b[33mTe van a disparar\u001b[39m\u001b[33m\"\u001b[39m)\n",
      "\u001b[36mCell\u001b[39m\u001b[36m \u001b[39m\u001b[32mIn[121]\u001b[39m\u001b[32m, line 2\u001b[39m, in \u001b[36mdisparar\u001b[39m\u001b[34m(tablero, tablero_2)\u001b[39m\n\u001b[32m      1\u001b[39m \u001b[38;5;28;01mdef\u001b[39;00m\u001b[38;5;250m \u001b[39m\u001b[34mdisparar\u001b[39m(tablero, tablero_2):\n\u001b[32m----> \u001b[39m\u001b[32m2\u001b[39m     coord_x = \u001b[38;5;28;43mint\u001b[39;49m\u001b[43m(\u001b[49m\u001b[38;5;28;43minput\u001b[39;49m\u001b[43m(\u001b[49m\u001b[33;43m\"\u001b[39;49m\u001b[33;43mDónde quieres disparar. (Coordenada x, valores del 0 al 9)\u001b[39;49m\u001b[33;43m\"\u001b[39;49m\u001b[43m)\u001b[49m\u001b[43m)\u001b[49m\n\u001b[32m      3\u001b[39m     coord_y = \u001b[38;5;28mint\u001b[39m(\u001b[38;5;28minput\u001b[39m(\u001b[33m\"\u001b[39m\u001b[33mDónde quieres disparar. (Coordenada y, valores del 0 al 9)\u001b[39m\u001b[33m\"\u001b[39m))\n\u001b[32m      4\u001b[39m     \u001b[38;5;28;01mif\u001b[39;00m \u001b[32m0\u001b[39m > coord_x > \u001b[32m9\u001b[39m \u001b[38;5;129;01mor\u001b[39;00m \u001b[32m0\u001b[39m > coord_y > \u001b[32m9\u001b[39m:\n",
      "\u001b[31mValueError\u001b[39m: invalid literal for int() with base 10: ''"
     ]
    }
   ],
   "source": [
    "\n",
    "tablero_1 = crear_tablero()\n",
    "tablero_2 = crear_tablero()\n",
    "\n",
    "print(\"Coloca tu barco de eslora 2\")\n",
    "barco_1 = tu_barco(2)\n",
    "tablero_1 = colocar_barco(barco_1, tablero_1)\n",
    "\n",
    "print(\"Coloca tu barco de eslora 2\")\n",
    "barco_2 = tu_barco(2)\n",
    "tablero_1 = colocar_barco(barco_2, tablero_1)\n",
    "\n",
    "print(\"Coloca tu barco de eslora 2\")\n",
    "barco_3 = tu_barco(2)\n",
    "tablero_1 = colocar_barco(barco_3, tablero_1)\n",
    "\n",
    "print(\"Coloca tu barco de eslora 3\")\n",
    "barco_4 = tu_barco(3)\n",
    "tablero_1 = colocar_barco(barco_4, tablero_1)\n",
    "\n",
    "print(\"Coloca tu barco de eslora 3\")\n",
    "barco_5 = tu_barco(3)\n",
    "tablero_1 = colocar_barco(barco_5, tablero_1)\n",
    "\n",
    "print(\"Coloca tu barco de eslora 4\")\n",
    "barco_6 = tu_barco(4)\n",
    "tablero_1 = colocar_barco(barco_6, tablero_1)\n",
    "\n",
    "colocar_barcos_aleatorio(tablero)\n",
    "\n",
    "# print(tablero_2, end = \"\\n\\n\\n\")\n",
    "# print(tablero_1)\n",
    "print(tablero)\n",
    "\n",
    "for i in tablero:\n",
    "    while \"O\" in i:\n",
    "        time.sleep(1)\n",
    "        print(\"Aúnn hay barcos, dispara!\")\n",
    "        disparar(tablero, tablero_2)\n",
    "        time.sleep(1)\n",
    "        print(\"Te van a disparar\")\n",
    "        disparo_aleatorio(tablero_1)\n",
    "        print(tablero_2, end = \"\\n\\n\")\n",
    "        print(tablero_1)\n",
    "    else:\n",
    "        print(\"Has ganado\")\n",
    "        break\n",
    "        \n",
    "\n"
   ]
  },
  {
   "cell_type": "code",
   "execution_count": 133,
   "metadata": {},
   "outputs": [],
   "source": [
    "def disparo_aleatorio(tablero_1):\n",
    "    fila = random.randint(0, 9)\n",
    "    columna = random.randint(0, 9)\n",
    "    if tablero_1[fila][columna] == \"_\":\n",
    "        tablero_1[fila][columna] = \"A\"\n",
    "    elif tablero_1[fila][columna] == \"O\":\n",
    "        tablero_1[fila][columna] = \"X\"\n",
    "    return tablero_1"
   ]
  },
  {
   "cell_type": "code",
   "execution_count": 140,
   "metadata": {},
   "outputs": [
    {
     "name": "stdout",
     "output_type": "stream",
     "text": [
      "\n",
      "               |\\                \n",
      "               | \\               \n",
      "               |  \\              \n",
      "               |   \\             \n",
      "               |    \\            \n",
      "               | La  \\           \n",
      "               | Flota\\          \n",
      "               | Me    \\         \n",
      "               | Ha     \\        \n",
      "               | Hundido \\       \n",
      "               | :(       \\      \n",
      "               |           \\     \n",
      "               |            \\    \n",
      "               |  Alejandro  \\   \n",
      "               |    Plaza     \\  \n",
      "               |               \\ \n",
      "      _____________________________________\n",
      "      \\                                   /\n",
      "       \\                                 /\n",
      "        \\                               /\n",
      "         \\                             /\n",
      "          \\___________________________/\n",
      "\n"
     ]
    },
    {
     "name": "stderr",
     "output_type": "stream",
     "text": [
      "<>:1: SyntaxWarning: invalid escape sequence '\\ '\n",
      "<>:1: SyntaxWarning: invalid escape sequence '\\ '\n",
      "C:\\Users\\plaza\\AppData\\Local\\Temp\\ipykernel_98816\\2535783215.py:1: SyntaxWarning: invalid escape sequence '\\ '\n",
      "  print(\"\"\"\n"
     ]
    }
   ],
   "source": [
    "print(\"\"\"\n",
    "               |\\\\                \n",
    "               | \\\\               \n",
    "               |  \\\\              \n",
    "               |   \\\\             \n",
    "               |    \\\\            \n",
    "               | La  \\\\           \n",
    "               | Flota\\\\          \n",
    "               | Me    \\\\         \n",
    "               | Ha     \\\\        \n",
    "               | Hundido \\\\       \n",
    "               | :(       \\\\      \n",
    "               |           \\\\     \n",
    "               |            \\\\    \n",
    "               |  Alejandro  \\\\   \n",
    "               |    Plaza     \\\\  \n",
    "               |               \\\\ \n",
    "      _____________________________________\n",
    "      \\                                   /\n",
    "       \\                                 /\n",
    "        \\                               /\n",
    "         \\                             /\n",
    "          \\___________________________/\n",
    "\"\"\")"
   ]
  }
 ],
 "metadata": {
  "kernelspec": {
   "display_name": "Python 3",
   "language": "python",
   "name": "python3"
  },
  "language_info": {
   "codemirror_mode": {
    "name": "ipython",
    "version": 3
   },
   "file_extension": ".py",
   "mimetype": "text/x-python",
   "name": "python",
   "nbconvert_exporter": "python",
   "pygments_lexer": "ipython3",
   "version": "3.13.2"
  },
  "orig_nbformat": 4
 },
 "nbformat": 4,
 "nbformat_minor": 2
}
